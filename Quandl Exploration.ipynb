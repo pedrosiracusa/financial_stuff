{
    "metadata": {
        "language_info": {
            "file_extension": ".py", 
            "mimetype": "text/x-python", 
            "codemirror_mode": {
                "version": 2, 
                "name": "ipython"
            }, 
            "pygments_lexer": "ipython2", 
            "name": "python", 
            "version": "2.7.11", 
            "nbconvert_exporter": "python"
        }, 
        "kernelspec": {
            "display_name": "Python 2 with Spark 2.1", 
            "language": "python", 
            "name": "python2-spark21"
        }
    }, 
    "cells": [
        {
            "metadata": {}, 
            "cell_type": "markdown", 
            "source": "# Explora\u00e7\u00e3o de dados de soja usando a plataforma de acesso *Quandl*"
        }, 
        {
            "metadata": {}, 
            "cell_type": "markdown", 
            "source": "Neste notebook explorarei algumas bases de dados que trazem informa\u00e7\u00f5es sobre produ\u00e7\u00e3o e pre\u00e7o de Soja (*soybeans*), especialmente no mercado futuro e de op\u00e7\u00f5es. Como neste primeiro momento desejo conhecer fontes potenciais de dados usarei a plataforma [*Quandl*](https://www.quandl.com/), que fornece acesso gratuito e facilitado a v\u00e1rias bases de dados financeiros. Os dados podem ser baixados diretamente da plataforma ou consultados via API. A *Quandl* tamb\u00e9m fornece o pacote *QuandlPython*, que pode ser instalado atrav\u00e9s do PIP:"
        }, 
        {
            "outputs": [], 
            "cell_type": "code", 
            "execution_count": null, 
            "metadata": {
                "collapsed": true
            }, 
            "source": "# !pip install quandl # uncomment for installing"
        }, 
        {
            "metadata": {}, 
            "cell_type": "markdown", 
            "source": "Uma vez instalado o pacote deve ser carregado na sess\u00e3o e, para acessar a API, o usu\u00e1rio precisa informar suas credenciais (obtidas a partir da sua conta no *Quandl*). "
        }, 
        {
            "outputs": [], 
            "cell_type": "code", 
            "execution_count": 2, 
            "metadata": {
                "collapsed": true
            }, 
            "source": "import quandl as qd"
        }, 
        {
            "outputs": [], 
            "cell_type": "code", 
            "execution_count": 5, 
            "metadata": {}, 
            "source": "qd.ApiConfig.api_key = \"<sua API Key>\""
        }, 
        {
            "outputs": [], 
            "cell_type": "code", 
            "execution_count": 6, 
            "metadata": {
                "collapsed": true
            }, 
            "source": "# The code was removed by DSX for sharing."
        }, 
        {
            "metadata": {}, 
            "cell_type": "markdown", 
            "source": "## FAO - United Nations Food and Agriculture"
        }, 
        {
            "metadata": {}, 
            "cell_type": "markdown", 
            "source": "A [FAO](https://www.quandl.com/data/UFAO-United-Nations-Food-and-Agriculture) disponibiliza um total de 33539 datasets sobre produtos agr\u00edcolas no mundo. Aqui estamos particularmente interessados na produ\u00e7\u00e3o de soja (*soybeans*). Abaixo carregarei dois datasets contendo a produ\u00e7\u00e3o brasileira e mundial, respectivamente. Cada dataset \u00e9 uma s\u00e9rie temporal com registros anuais, trazendo informa\u00e7\u00f5es sobre:\n* Toneladas de sementes (em toneladas);\n* \u00c1rea colhida (em hectares);\n* Produtividade (em hectograma(100g)/hectare);\n* Production Quantity (em toneladas).\n\nOs dados oficiais da FAO s\u00e3o mais detalhados e tamb\u00e9m est\u00e3o dispon\u00edveis gratuitamente em uma [plataforma pr\u00f3pria](http://www.fao.org/faostat/en/#home)."
        }, 
        {
            "outputs": [
                {
                    "metadata": {}, 
                    "execution_count": 39, 
                    "data": {
                        "text/plain": "            Seed - tonnes  Area Harvested - Ha  Yield - Hg/Ha  \\\nDate                                                            \n1961-12-31          12545               240919          11268   \n1962-12-31          13591               313640          11005   \n1963-12-31          14384               339796           9503   \n1964-12-31          17273               359622           8478   \n1965-12-31          19627               431834          12115   \n\n            Production Quantity - tonnes  \nDate                                      \n1961-12-31                        271488  \n1962-12-31                        345175  \n1963-12-31                        322915  \n1964-12-31                        304897  \n1965-12-31                        523176  ", 
                        "text/html": "<div>\n<table border=\"1\" class=\"dataframe\">\n  <thead>\n    <tr style=\"text-align: right;\">\n      <th></th>\n      <th>Seed - tonnes</th>\n      <th>Area Harvested - Ha</th>\n      <th>Yield - Hg/Ha</th>\n      <th>Production Quantity - tonnes</th>\n    </tr>\n    <tr>\n      <th>Date</th>\n      <th></th>\n      <th></th>\n      <th></th>\n      <th></th>\n    </tr>\n  </thead>\n  <tbody>\n    <tr>\n      <th>1961-12-31</th>\n      <td>12545</td>\n      <td>240919</td>\n      <td>11268</td>\n      <td>271488</td>\n    </tr>\n    <tr>\n      <th>1962-12-31</th>\n      <td>13591</td>\n      <td>313640</td>\n      <td>11005</td>\n      <td>345175</td>\n    </tr>\n    <tr>\n      <th>1963-12-31</th>\n      <td>14384</td>\n      <td>339796</td>\n      <td>9503</td>\n      <td>322915</td>\n    </tr>\n    <tr>\n      <th>1964-12-31</th>\n      <td>17273</td>\n      <td>359622</td>\n      <td>8478</td>\n      <td>304897</td>\n    </tr>\n    <tr>\n      <th>1965-12-31</th>\n      <td>19627</td>\n      <td>431834</td>\n      <td>12115</td>\n      <td>523176</td>\n    </tr>\n  </tbody>\n</table>\n</div>"
                    }, 
                    "output_type": "execute_result"
                }
            ], 
            "cell_type": "code", 
            "execution_count": 39, 
            "metadata": {}, 
            "source": "ufao_cr_soyb_bra = qd.get(\"UFAO/CR_SOYB_BRA\")\nufao_cr_soyb_bra.head()"
        }, 
        {
            "outputs": [
                {
                    "metadata": {}, 
                    "execution_count": 37, 
                    "data": {
                        "text/plain": "            Seed - tonnes  Area Harvested - Ha  Yield - Hg/Ha  \\\nDate                                                            \n2003-12-31        6535103             83609392          22801   \n2004-12-31        6551990             91526610          22454   \n2005-12-31        6710853             92437171          23178   \n2006-12-31        6310284             94937821          22986   \n2007-12-31        6791305             90199626          24449   \n\n            Production Quantity - tonnes  \nDate                                      \n2003-12-31                     190642011  \n2004-12-31                     205519398  \n2005-12-31                     214255282  \n2006-12-31                     218232719  \n2007-12-31                     220532612  ", 
                        "text/html": "<div>\n<table border=\"1\" class=\"dataframe\">\n  <thead>\n    <tr style=\"text-align: right;\">\n      <th></th>\n      <th>Seed - tonnes</th>\n      <th>Area Harvested - Ha</th>\n      <th>Yield - Hg/Ha</th>\n      <th>Production Quantity - tonnes</th>\n    </tr>\n    <tr>\n      <th>Date</th>\n      <th></th>\n      <th></th>\n      <th></th>\n      <th></th>\n    </tr>\n  </thead>\n  <tbody>\n    <tr>\n      <th>2003-12-31</th>\n      <td>6535103</td>\n      <td>83609392</td>\n      <td>22801</td>\n      <td>190642011</td>\n    </tr>\n    <tr>\n      <th>2004-12-31</th>\n      <td>6551990</td>\n      <td>91526610</td>\n      <td>22454</td>\n      <td>205519398</td>\n    </tr>\n    <tr>\n      <th>2005-12-31</th>\n      <td>6710853</td>\n      <td>92437171</td>\n      <td>23178</td>\n      <td>214255282</td>\n    </tr>\n    <tr>\n      <th>2006-12-31</th>\n      <td>6310284</td>\n      <td>94937821</td>\n      <td>22986</td>\n      <td>218232719</td>\n    </tr>\n    <tr>\n      <th>2007-12-31</th>\n      <td>6791305</td>\n      <td>90199626</td>\n      <td>24449</td>\n      <td>220532612</td>\n    </tr>\n  </tbody>\n</table>\n</div>"
                    }, 
                    "output_type": "execute_result"
                }
            ], 
            "cell_type": "code", 
            "execution_count": 37, 
            "metadata": {}, 
            "source": "ufao_cr_soyb_5001 = qd.get(\"UFAO/CR_SOYB_5001\")\nufao_cr_soyb_5001.tail()"
        }, 
        {
            "metadata": {}, 
            "cell_type": "markdown", 
            "source": "Note que estas s\u00e9ries temporais somente trazem dados de 1961 at\u00e9 2007, o que provavelmente \u00e9 uma limita\u00e7\u00e3o para nossos objetivos:"
        }, 
        {
            "outputs": [
                {
                    "output_type": "stream", 
                    "text": "Brasil:\n  Ano max: 2007;\n  Ano min: 1961;\n\nMundial:\n  Ano max: 2007;\n  Ano min: 1961;\n", 
                    "name": "stdout"
                }
            ], 
            "cell_type": "code", 
            "execution_count": 69, 
            "metadata": {}, 
            "source": "s = \"Brasil:\\n  Ano max: {};\\n  Ano min: {};\\n\\nMundial:\\n  Ano max: {};\\n  Ano min: {};\".format( ufao_cr_soyb_bra.index.max().year,\n                                                                               ufao_cr_soyb_bra.index.min().year,\n                                                                               ufao_cr_soyb_5001.index.max().year,\n                                                                               ufao_cr_soyb_5001.index.min().year )\nprint(s)"
        }, 
        {
            "outputs": [], 
            "cell_type": "code", 
            "execution_count": 72, 
            "metadata": {}, 
            "source": "# remover os datasets da mem\u00f3ria\ntry:\n    del(ufao_cr_soyb_bra, ufao_cr_soyb_5001)\nexcept NameError:\n    pass"
        }, 
        {
            "metadata": {}, 
            "cell_type": "markdown", 
            "source": "---"
        }, 
        {
            "metadata": {}, 
            "cell_type": "markdown", 
            "source": "## CEPEA - Centro de Estudos Avan\u00e7ados em Economia Aplicada"
        }, 
        {
            "metadata": {}, 
            "cell_type": "markdown", 
            "source": "O [CEPEA](https://www.cepea.esalq.usp.br/br) \u00e9 um centro de pesquisas brasileiro focado em temas sobre a din\u00e2mica da cadeia produtiva do agroneg\u00f3cio. \u00c9 respons\u00e1vel tamb\u00e9m por monitorar o desempenho macroecon\u00f4mico do setor, produzindo e disponibiliazando dados sobre o **PIB do Agroneg\u00f3cio e das cadeias produtivas** e **\u00edndices de exporta\u00e7\u00e3o**. Dados oficiais de indicadores soja est\u00e3o dispon\u00edveis para download [nesta](https://www.cepea.esalq.usp.br/br/indicador/soja.aspx) p\u00e1gina, bem como as metodologias para sua contru\u00e7\u00e3o. O *Quandl*, entretanto, facilita o acesso a estes dados. A s\u00e9rie temporal \u00e9 constru\u00edda por registros di\u00e1rios (dias \u00fateis)."
        }, 
        {
            "metadata": {}, 
            "cell_type": "markdown", 
            "source": "##### Indicador da soja ESALQ / BM&FBOVESPA - Paranagu\u00e1"
        }, 
        {
            "outputs": [
                {
                    "metadata": {}, 
                    "execution_count": 73, 
                    "data": {
                        "text/plain": "            Price US$  Daily %  Monthly %\nDate                                     \n2017-11-09      22.79     0.49       2.75\n2017-11-10      22.55    -1.05       1.67\n2017-11-13      22.70     0.67       2.34\n2017-11-14      22.39    -1.37       0.95\n2017-11-16      22.46     0.31       1.26", 
                        "text/html": "<div>\n<table border=\"1\" class=\"dataframe\">\n  <thead>\n    <tr style=\"text-align: right;\">\n      <th></th>\n      <th>Price US$</th>\n      <th>Daily %</th>\n      <th>Monthly %</th>\n    </tr>\n    <tr>\n      <th>Date</th>\n      <th></th>\n      <th></th>\n      <th></th>\n    </tr>\n  </thead>\n  <tbody>\n    <tr>\n      <th>2017-11-09</th>\n      <td>22.79</td>\n      <td>0.49</td>\n      <td>2.75</td>\n    </tr>\n    <tr>\n      <th>2017-11-10</th>\n      <td>22.55</td>\n      <td>-1.05</td>\n      <td>1.67</td>\n    </tr>\n    <tr>\n      <th>2017-11-13</th>\n      <td>22.70</td>\n      <td>0.67</td>\n      <td>2.34</td>\n    </tr>\n    <tr>\n      <th>2017-11-14</th>\n      <td>22.39</td>\n      <td>-1.37</td>\n      <td>0.95</td>\n    </tr>\n    <tr>\n      <th>2017-11-16</th>\n      <td>22.46</td>\n      <td>0.31</td>\n      <td>1.26</td>\n    </tr>\n  </tbody>\n</table>\n</div>"
                    }, 
                    "output_type": "execute_result"
                }
            ], 
            "cell_type": "code", 
            "execution_count": 73, 
            "metadata": {}, 
            "source": "cepea_soy_c = qd.get(\"CEPEA/SOYBEAN_C\")\ncepea_soy_c.tail()"
        }, 
        {
            "metadata": {}, 
            "cell_type": "markdown", 
            "source": "##### Indicador da soja CEPEA/ESALQ - Paran\u00e1"
        }, 
        {
            "outputs": [
                {
                    "metadata": {}, 
                    "execution_count": 74, 
                    "data": {
                        "text/plain": "            Price US$  Daily %  Monthly %\nDate                                     \n2017-11-09      21.18     0.43       2.87\n2017-11-10      20.99    -0.90       1.94\n2017-11-13      21.06     0.33       2.28\n2017-11-14      20.92    -0.66       1.60\n2017-11-16      21.10     0.86       2.48", 
                        "text/html": "<div>\n<table border=\"1\" class=\"dataframe\">\n  <thead>\n    <tr style=\"text-align: right;\">\n      <th></th>\n      <th>Price US$</th>\n      <th>Daily %</th>\n      <th>Monthly %</th>\n    </tr>\n    <tr>\n      <th>Date</th>\n      <th></th>\n      <th></th>\n      <th></th>\n    </tr>\n  </thead>\n  <tbody>\n    <tr>\n      <th>2017-11-09</th>\n      <td>21.18</td>\n      <td>0.43</td>\n      <td>2.87</td>\n    </tr>\n    <tr>\n      <th>2017-11-10</th>\n      <td>20.99</td>\n      <td>-0.90</td>\n      <td>1.94</td>\n    </tr>\n    <tr>\n      <th>2017-11-13</th>\n      <td>21.06</td>\n      <td>0.33</td>\n      <td>2.28</td>\n    </tr>\n    <tr>\n      <th>2017-11-14</th>\n      <td>20.92</td>\n      <td>-0.66</td>\n      <td>1.60</td>\n    </tr>\n    <tr>\n      <th>2017-11-16</th>\n      <td>21.10</td>\n      <td>0.86</td>\n      <td>2.48</td>\n    </tr>\n  </tbody>\n</table>\n</div>"
                    }, 
                    "output_type": "execute_result"
                }
            ], 
            "cell_type": "code", 
            "execution_count": 74, 
            "metadata": {}, 
            "source": "cepea_soy = qd.get(\"CEPEA/SOYBEAN\")\ncepea_soy.tail()"
        }, 
        {
            "metadata": {}, 
            "cell_type": "markdown", 
            "source": "Entretanto as colunas `Daily %` e `Monthly %` est\u00e3o apenas guardadas para os \u00faltimos 15 dias:"
        }, 
        {
            "outputs": [
                {
                    "output_type": "stream", 
                    "text": "<class 'pandas.core.frame.DataFrame'>\nDatetimeIndex: 2912 entries, 2006-03-13 to 2017-11-14\nData columns (total 3 columns):\nPrice US$    2912 non-null float64\nDaily %      15 non-null float64\nMonthly %    15 non-null float64\ndtypes: float64(3)\nmemory usage: 91.0 KB\n", 
                    "name": "stdout"
                }
            ], 
            "cell_type": "code", 
            "execution_count": 31, 
            "metadata": {}, 
            "source": "d.info()"
        }, 
        {
            "metadata": {}, 
            "cell_type": "markdown", 
            "source": "---"
        }, 
        {
            "metadata": {}, 
            "cell_type": "markdown", 
            "source": "## World Bank Global Economic Monitor (GEM) Commodities"
        }, 
        {
            "metadata": {}, 
            "cell_type": "markdown", 
            "source": "Pre\u00e7os de commodities e \u00edndices desde 1960.\n\n"
        }, 
        {
            "metadata": {}, 
            "cell_type": "markdown", 
            "source": "* [WGEC/WLD_SOYBEANS](https://www.quandl.com/data/WGEC/WLD_SOYBEANS-Soybeans-mt-current-World): Pre\u00e7o da soja mundial em d\u00f3lar/mt. \n\n*obs*: mt = \"metric ton\"."
        }, 
        {
            "outputs": [
                {
                    "metadata": {}, 
                    "execution_count": 35, 
                    "data": {
                        "text/plain": "                 Value\nDate                  \n1960-12-31   91.833333\n1961-12-31  109.333333\n1962-12-31  100.540000\n1963-12-31  110.093333\n1964-12-31  110.505833", 
                        "text/html": "<div>\n<table border=\"1\" class=\"dataframe\">\n  <thead>\n    <tr style=\"text-align: right;\">\n      <th></th>\n      <th>Value</th>\n    </tr>\n    <tr>\n      <th>Date</th>\n      <th></th>\n    </tr>\n  </thead>\n  <tbody>\n    <tr>\n      <th>1960-12-31</th>\n      <td>91.833333</td>\n    </tr>\n    <tr>\n      <th>1961-12-31</th>\n      <td>109.333333</td>\n    </tr>\n    <tr>\n      <th>1962-12-31</th>\n      <td>100.540000</td>\n    </tr>\n    <tr>\n      <th>1963-12-31</th>\n      <td>110.093333</td>\n    </tr>\n    <tr>\n      <th>1964-12-31</th>\n      <td>110.505833</td>\n    </tr>\n  </tbody>\n</table>\n</div>"
                    }, 
                    "output_type": "execute_result"
                }
            ], 
            "cell_type": "code", 
            "execution_count": 35, 
            "metadata": {}, 
            "source": "d=qd.get(\"WGEC/WLD_SOYBEANS\")\nd.head()"
        }, 
        {
            "metadata": {}, 
            "cell_type": "markdown", 
            "source": "---"
        }, 
        {
            "metadata": {}, 
            "cell_type": "markdown", 
            "source": "## Banco Central do Brasil"
        }, 
        {
            "metadata": {}, 
            "cell_type": "markdown", 
            "source": "Dados macroecon\u00f4micos brasileiros."
        }, 
        {
            "metadata": {}, 
            "cell_type": "markdown", 
            "source": "[BCB/4218](https://www.quandl.com/data/BCB/4218-Exports-Kg-Soybeans-including-grinded): Exporta\u00e7\u00e3o ($kg$) de soja, incluindo triturada."
        }, 
        {
            "outputs": [
                {
                    "metadata": {}, 
                    "execution_count": 37, 
                    "data": {
                        "text/plain": "                Value\nDate                 \n1989-01-31    5000000\n1989-02-28    9750000\n1989-03-31   10537650\n1989-04-30  320065957\n1989-05-31  373374202", 
                        "text/html": "<div>\n<table border=\"1\" class=\"dataframe\">\n  <thead>\n    <tr style=\"text-align: right;\">\n      <th></th>\n      <th>Value</th>\n    </tr>\n    <tr>\n      <th>Date</th>\n      <th></th>\n    </tr>\n  </thead>\n  <tbody>\n    <tr>\n      <th>1989-01-31</th>\n      <td>5000000</td>\n    </tr>\n    <tr>\n      <th>1989-02-28</th>\n      <td>9750000</td>\n    </tr>\n    <tr>\n      <th>1989-03-31</th>\n      <td>10537650</td>\n    </tr>\n    <tr>\n      <th>1989-04-30</th>\n      <td>320065957</td>\n    </tr>\n    <tr>\n      <th>1989-05-31</th>\n      <td>373374202</td>\n    </tr>\n  </tbody>\n</table>\n</div>"
                    }, 
                    "output_type": "execute_result"
                }
            ], 
            "cell_type": "code", 
            "execution_count": 37, 
            "metadata": {}, 
            "source": "d=qd.get(\"BCB/4218\")\nd.head()"
        }, 
        {
            "metadata": {}, 
            "cell_type": "markdown", 
            "source": "[BCB/2971](https://www.quandl.com/data/BCB/2971-Exports-Fob-Soybeans-including-grinded): Exporta\u00e7\u00e3o ($\\$$) de soja, incluindo triturada."
        }, 
        {
            "outputs": [
                {
                    "metadata": {}, 
                    "execution_count": 39, 
                    "data": {
                        "text/plain": "                Value\nDate                 \n1989-01-31    1817500\n1989-02-28    3240425\n1989-03-31    3169339\n1989-04-30   91883451\n1989-05-31  103203860", 
                        "text/html": "<div>\n<table border=\"1\" class=\"dataframe\">\n  <thead>\n    <tr style=\"text-align: right;\">\n      <th></th>\n      <th>Value</th>\n    </tr>\n    <tr>\n      <th>Date</th>\n      <th></th>\n    </tr>\n  </thead>\n  <tbody>\n    <tr>\n      <th>1989-01-31</th>\n      <td>1817500</td>\n    </tr>\n    <tr>\n      <th>1989-02-28</th>\n      <td>3240425</td>\n    </tr>\n    <tr>\n      <th>1989-03-31</th>\n      <td>3169339</td>\n    </tr>\n    <tr>\n      <th>1989-04-30</th>\n      <td>91883451</td>\n    </tr>\n    <tr>\n      <th>1989-05-31</th>\n      <td>103203860</td>\n    </tr>\n  </tbody>\n</table>\n</div>"
                    }, 
                    "output_type": "execute_result"
                }
            ], 
            "cell_type": "code", 
            "execution_count": 39, 
            "metadata": {}, 
            "source": "d=qd.get(\"BCB/2971\")\nd.head()"
        }, 
        {
            "metadata": {}, 
            "cell_type": "markdown", 
            "source": "---"
        }, 
        {
            "metadata": {}, 
            "cell_type": "markdown", 
            "source": "## Chicago Mercantile Exchange (CME)"
        }, 
        {
            "metadata": {}, 
            "cell_type": "markdown", 
            "source": "Dados para uma grande variedade de commodities, incluindo gr\u00e3os."
        }, 
        {
            "metadata": {}, 
            "cell_type": "markdown", 
            "source": "* [CME/SH1964](https://www.quandl.com/data/CME/SH1964-Soybeans-Futures-March-1964-SH1964-CBOT): Soybeans Futures, March 1964, SH1964, CBOT\n* [CME/SH1963](https://www.quandl.com/data/CME/SH1963-Soybeans-Futures-March-1963-SH1963-CBOT): Soybeans Futures, March 1963, SH1963, CBOT\n* [CME/SH1962](https://www.quandl.com/data/CME/SH1962-Soybeans-Futures-March-1962-SH1962-CBOT): Soybeans Futures, March 1962, SH1962, CBOT"
        }, 
        {
            "outputs": [
                {
                    "metadata": {}, 
                    "execution_count": 34, 
                    "data": {
                        "text/plain": "             Open   High    Low  Last Change  Settle  Volume  \\\nDate                                                           \n1963-04-02  250.0  251.2  250.0  None   None   250.2       0   \n1963-04-03  250.1  251.2  250.1  None   None   251.0     417   \n1963-04-04  251.2  251.2  250.2  None   None   250.2     156   \n1963-04-05  250.2  250.6  250.2  None   None   250.5     856   \n1963-04-08  250.0  251.0  250.0  None   None   251.0    1011   \n\n            Prev. Day Open Interest  \nDate                                 \n1963-04-02                        0  \n1963-04-03                      402  \n1963-04-04                      498  \n1963-04-05                     1158  \n1963-04-08                     2169  ", 
                        "text/html": "<div>\n<table border=\"1\" class=\"dataframe\">\n  <thead>\n    <tr style=\"text-align: right;\">\n      <th></th>\n      <th>Open</th>\n      <th>High</th>\n      <th>Low</th>\n      <th>Last</th>\n      <th>Change</th>\n      <th>Settle</th>\n      <th>Volume</th>\n      <th>Prev. Day Open Interest</th>\n    </tr>\n    <tr>\n      <th>Date</th>\n      <th></th>\n      <th></th>\n      <th></th>\n      <th></th>\n      <th></th>\n      <th></th>\n      <th></th>\n      <th></th>\n    </tr>\n  </thead>\n  <tbody>\n    <tr>\n      <th>1963-04-02</th>\n      <td>250.0</td>\n      <td>251.2</td>\n      <td>250.0</td>\n      <td>None</td>\n      <td>None</td>\n      <td>250.2</td>\n      <td>0</td>\n      <td>0</td>\n    </tr>\n    <tr>\n      <th>1963-04-03</th>\n      <td>250.1</td>\n      <td>251.2</td>\n      <td>250.1</td>\n      <td>None</td>\n      <td>None</td>\n      <td>251.0</td>\n      <td>417</td>\n      <td>402</td>\n    </tr>\n    <tr>\n      <th>1963-04-04</th>\n      <td>251.2</td>\n      <td>251.2</td>\n      <td>250.2</td>\n      <td>None</td>\n      <td>None</td>\n      <td>250.2</td>\n      <td>156</td>\n      <td>498</td>\n    </tr>\n    <tr>\n      <th>1963-04-05</th>\n      <td>250.2</td>\n      <td>250.6</td>\n      <td>250.2</td>\n      <td>None</td>\n      <td>None</td>\n      <td>250.5</td>\n      <td>856</td>\n      <td>1158</td>\n    </tr>\n    <tr>\n      <th>1963-04-08</th>\n      <td>250.0</td>\n      <td>251.0</td>\n      <td>250.0</td>\n      <td>None</td>\n      <td>None</td>\n      <td>251.0</td>\n      <td>1011</td>\n      <td>2169</td>\n    </tr>\n  </tbody>\n</table>\n</div>"
                    }, 
                    "output_type": "execute_result"
                }
            ], 
            "cell_type": "code", 
            "execution_count": 34, 
            "metadata": {}, 
            "source": "d = qd.get(\"CME/SH1964\")\nd.head()"
        }, 
        {
            "outputs": [
                {
                    "metadata": {}, 
                    "execution_count": 23, 
                    "data": {
                        "text/plain": "             Open   High    Low  Last Change  Settle  Volume  \\\nDate                                                           \n1962-04-02  246.6  247.2  246.6  None   None   247.0       0   \n1962-04-03  246.6  246.6  246.6  None   None   246.6      17   \n1962-04-04  247.0  247.2  247.0  None   None   247.2       0   \n1962-04-05  247.2  247.6  247.2  None   None   247.4      10   \n1962-04-06  247.6  247.6  247.6  None   None   247.6      70   \n\n            Prev. Day Open Interest  \nDate                                 \n1962-04-02                        0  \n1962-04-03                       17  \n1962-04-04                       17  \n1962-04-05                       27  \n1962-04-06                       87  ", 
                        "text/html": "<div>\n<table border=\"1\" class=\"dataframe\">\n  <thead>\n    <tr style=\"text-align: right;\">\n      <th></th>\n      <th>Open</th>\n      <th>High</th>\n      <th>Low</th>\n      <th>Last</th>\n      <th>Change</th>\n      <th>Settle</th>\n      <th>Volume</th>\n      <th>Prev. Day Open Interest</th>\n    </tr>\n    <tr>\n      <th>Date</th>\n      <th></th>\n      <th></th>\n      <th></th>\n      <th></th>\n      <th></th>\n      <th></th>\n      <th></th>\n      <th></th>\n    </tr>\n  </thead>\n  <tbody>\n    <tr>\n      <th>1962-04-02</th>\n      <td>246.6</td>\n      <td>247.2</td>\n      <td>246.6</td>\n      <td>None</td>\n      <td>None</td>\n      <td>247.0</td>\n      <td>0</td>\n      <td>0</td>\n    </tr>\n    <tr>\n      <th>1962-04-03</th>\n      <td>246.6</td>\n      <td>246.6</td>\n      <td>246.6</td>\n      <td>None</td>\n      <td>None</td>\n      <td>246.6</td>\n      <td>17</td>\n      <td>17</td>\n    </tr>\n    <tr>\n      <th>1962-04-04</th>\n      <td>247.0</td>\n      <td>247.2</td>\n      <td>247.0</td>\n      <td>None</td>\n      <td>None</td>\n      <td>247.2</td>\n      <td>0</td>\n      <td>17</td>\n    </tr>\n    <tr>\n      <th>1962-04-05</th>\n      <td>247.2</td>\n      <td>247.6</td>\n      <td>247.2</td>\n      <td>None</td>\n      <td>None</td>\n      <td>247.4</td>\n      <td>10</td>\n      <td>27</td>\n    </tr>\n    <tr>\n      <th>1962-04-06</th>\n      <td>247.6</td>\n      <td>247.6</td>\n      <td>247.6</td>\n      <td>None</td>\n      <td>None</td>\n      <td>247.6</td>\n      <td>70</td>\n      <td>87</td>\n    </tr>\n  </tbody>\n</table>\n</div>"
                    }, 
                    "output_type": "execute_result"
                }
            ], 
            "cell_type": "code", 
            "execution_count": 23, 
            "metadata": {}, 
            "source": "d = qd.get(\"CME/SH1963\")\nd.head()"
        }, 
        {
            "outputs": [
                {
                    "metadata": {}, 
                    "execution_count": 24, 
                    "data": {
                        "text/plain": "             Open   High    Low  Last Change  Settle  Volume  \\\nDate                                                           \n1961-04-03  249.0  249.6  248.6  None   None   249.6       0   \n1961-04-04  249.6  250.4  249.4  None   None   250.2     507   \n1961-04-05  250.6  251.4  250.3  None   None   251.4     802   \n1961-04-06  252.2  252.2  250.4  None   None   250.6    1036   \n1961-04-07  251.4  251.4  249.6  None   None   250.2    1075   \n\n            Prev. Day Open Interest  \nDate                                 \n1961-04-03                        0  \n1961-04-04                      492  \n1961-04-05                     1254  \n1961-04-06                     1742  \n1961-04-07                     2573  ", 
                        "text/html": "<div>\n<table border=\"1\" class=\"dataframe\">\n  <thead>\n    <tr style=\"text-align: right;\">\n      <th></th>\n      <th>Open</th>\n      <th>High</th>\n      <th>Low</th>\n      <th>Last</th>\n      <th>Change</th>\n      <th>Settle</th>\n      <th>Volume</th>\n      <th>Prev. Day Open Interest</th>\n    </tr>\n    <tr>\n      <th>Date</th>\n      <th></th>\n      <th></th>\n      <th></th>\n      <th></th>\n      <th></th>\n      <th></th>\n      <th></th>\n      <th></th>\n    </tr>\n  </thead>\n  <tbody>\n    <tr>\n      <th>1961-04-03</th>\n      <td>249.0</td>\n      <td>249.6</td>\n      <td>248.6</td>\n      <td>None</td>\n      <td>None</td>\n      <td>249.6</td>\n      <td>0</td>\n      <td>0</td>\n    </tr>\n    <tr>\n      <th>1961-04-04</th>\n      <td>249.6</td>\n      <td>250.4</td>\n      <td>249.4</td>\n      <td>None</td>\n      <td>None</td>\n      <td>250.2</td>\n      <td>507</td>\n      <td>492</td>\n    </tr>\n    <tr>\n      <th>1961-04-05</th>\n      <td>250.6</td>\n      <td>251.4</td>\n      <td>250.3</td>\n      <td>None</td>\n      <td>None</td>\n      <td>251.4</td>\n      <td>802</td>\n      <td>1254</td>\n    </tr>\n    <tr>\n      <th>1961-04-06</th>\n      <td>252.2</td>\n      <td>252.2</td>\n      <td>250.4</td>\n      <td>None</td>\n      <td>None</td>\n      <td>250.6</td>\n      <td>1036</td>\n      <td>1742</td>\n    </tr>\n    <tr>\n      <th>1961-04-07</th>\n      <td>251.4</td>\n      <td>251.4</td>\n      <td>249.6</td>\n      <td>None</td>\n      <td>None</td>\n      <td>250.2</td>\n      <td>1075</td>\n      <td>2573</td>\n    </tr>\n  </tbody>\n</table>\n</div>"
                    }, 
                    "output_type": "execute_result"
                }
            ], 
            "cell_type": "code", 
            "execution_count": 24, 
            "metadata": {}, 
            "source": "d = qd.get(\"CME/SH1962\")\nd.head()"
        }, 
        {
            "metadata": {}, 
            "cell_type": "markdown", 
            "source": "---"
        }, 
        {
            "metadata": {}, 
            "cell_type": "markdown", 
            "source": "## Wiki Commodities"
        }, 
        {
            "outputs": [
                {
                    "metadata": {}, 
                    "execution_count": 33, 
                    "data": {
                        "text/plain": "            Column 1\nDate                \n1960-01-31        94\n1960-02-29        91\n1960-03-31        92\n1960-04-30        93\n1960-05-31        93", 
                        "text/html": "<div>\n<table border=\"1\" class=\"dataframe\">\n  <thead>\n    <tr style=\"text-align: right;\">\n      <th></th>\n      <th>Column 1</th>\n    </tr>\n    <tr>\n      <th>Date</th>\n      <th></th>\n    </tr>\n  </thead>\n  <tbody>\n    <tr>\n      <th>1960-01-31</th>\n      <td>94</td>\n    </tr>\n    <tr>\n      <th>1960-02-29</th>\n      <td>91</td>\n    </tr>\n    <tr>\n      <th>1960-03-31</th>\n      <td>92</td>\n    </tr>\n    <tr>\n      <th>1960-04-30</th>\n      <td>93</td>\n    </tr>\n    <tr>\n      <th>1960-05-31</th>\n      <td>93</td>\n    </tr>\n  </tbody>\n</table>\n</div>"
                    }, 
                    "output_type": "execute_result"
                }
            ], 
            "cell_type": "code", 
            "execution_count": 33, 
            "metadata": {}, 
            "source": "d=qd.get(\"COM/WLD_SOYBEANS\")\nd.head()"
        }, 
        {
            "outputs": [], 
            "cell_type": "code", 
            "execution_count": null, 
            "metadata": {
                "collapsed": true
            }, 
            "source": ""
        }
    ], 
    "nbformat": 4, 
    "nbformat_minor": 1
}