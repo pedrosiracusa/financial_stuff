{
    "metadata": {
        "language_info": {
            "file_extension": ".py", 
            "mimetype": "text/x-python", 
            "codemirror_mode": {
                "version": 2, 
                "name": "ipython"
            }, 
            "pygments_lexer": "ipython2", 
            "name": "python", 
            "version": "2.7.11", 
            "nbconvert_exporter": "python"
        }, 
        "kernelspec": {
            "display_name": "Python 2 with Spark 2.1", 
            "language": "python", 
            "name": "python2-spark21"
        }
    }, 
    "cells": [
        {
            "metadata": {}, 
            "cell_type": "markdown", 
            "source": "# Explora\u00e7\u00e3o de dados de mercado de soja usando a plataforma de acesso *Quandl*"
        }, 
        {
            "metadata": {}, 
            "cell_type": "markdown", 
            "source": "Neste notebook explorarei algumas bases de dados que trazem informa\u00e7\u00f5es sobre produ\u00e7\u00e3o e pre\u00e7o de Soja (*soybeans*), especialmente no mercado futuro e de op\u00e7\u00f5es. Como neste primeiro momento desejo conhecer fontes potenciais de dados usarei a plataforma [*Quandl*](https://www.quandl.com/), que fornece acesso gratuito e facilitado a v\u00e1rias bases de dados financeiros. Os dados podem ser baixados diretamente da plataforma ou consultados via API. A *Quandl* tamb\u00e9m fornece o pacote *QuandlPython*, que pode ser instalado atrav\u00e9s do PIP:"
        }, 
        {
            "outputs": [], 
            "cell_type": "code", 
            "execution_count": null, 
            "metadata": {
                "collapsed": true
            }, 
            "source": "# !pip install quandl # uncomment for installing"
        }, 
        {
            "metadata": {}, 
            "cell_type": "markdown", 
            "source": "Uma vez instalado o pacote deve ser carregado na sess\u00e3o e, para acessar a API, o usu\u00e1rio precisa informar suas credenciais (obtidas a partir da sua conta no *Quandl*). "
        }, 
        {
            "outputs": [], 
            "cell_type": "code", 
            "execution_count": 2, 
            "metadata": {
                "collapsed": true
            }, 
            "source": "import quandl as qd"
        }, 
        {
            "outputs": [], 
            "cell_type": "code", 
            "execution_count": 5, 
            "metadata": {}, 
            "source": "qd.ApiConfig.api_key = \"<sua API Key>\""
        }, 
        {
            "outputs": [], 
            "cell_type": "code", 
            "execution_count": 6, 
            "metadata": {
                "collapsed": true
            }, 
            "source": "# The code was removed by DSX for sharing."
        }, 
        {
            "metadata": {}, 
            "cell_type": "markdown", 
            "source": "## FAO - United Nations Food and Agriculture"
        }, 
        {
            "metadata": {}, 
            "cell_type": "markdown", 
            "source": "A [FAO](https://www.quandl.com/data/UFAO-United-Nations-Food-and-Agriculture) disponibiliza um total de 33539 datasets sobre produtos agr\u00edcolas no mundo. Aqui estamos particularmente interessados na produ\u00e7\u00e3o de soja (*soybeans*). Abaixo carregarei dois datasets contendo a produ\u00e7\u00e3o brasileira e mundial, respectivamente. Cada dataset \u00e9 uma s\u00e9rie temporal com registros anuais, trazendo informa\u00e7\u00f5es sobre:\n* Toneladas de sementes (em toneladas);\n* \u00c1rea colhida (em hectares);\n* Produtividade (em hectograma(100g)/hectare);\n* Production Quantity (em toneladas).\n\nOs dados oficiais da FAO s\u00e3o mais detalhados e tamb\u00e9m est\u00e3o dispon\u00edveis gratuitamente em uma [plataforma pr\u00f3pria](http://www.fao.org/faostat/en/#home)."
        }, 
        {
            "outputs": [
                {
                    "metadata": {}, 
                    "execution_count": 39, 
                    "data": {
                        "text/plain": "            Seed - tonnes  Area Harvested - Ha  Yield - Hg/Ha  \\\nDate                                                            \n1961-12-31          12545               240919          11268   \n1962-12-31          13591               313640          11005   \n1963-12-31          14384               339796           9503   \n1964-12-31          17273               359622           8478   \n1965-12-31          19627               431834          12115   \n\n            Production Quantity - tonnes  \nDate                                      \n1961-12-31                        271488  \n1962-12-31                        345175  \n1963-12-31                        322915  \n1964-12-31                        304897  \n1965-12-31                        523176  ", 
                        "text/html": "<div>\n<table border=\"1\" class=\"dataframe\">\n  <thead>\n    <tr style=\"text-align: right;\">\n      <th></th>\n      <th>Seed - tonnes</th>\n      <th>Area Harvested - Ha</th>\n      <th>Yield - Hg/Ha</th>\n      <th>Production Quantity - tonnes</th>\n    </tr>\n    <tr>\n      <th>Date</th>\n      <th></th>\n      <th></th>\n      <th></th>\n      <th></th>\n    </tr>\n  </thead>\n  <tbody>\n    <tr>\n      <th>1961-12-31</th>\n      <td>12545</td>\n      <td>240919</td>\n      <td>11268</td>\n      <td>271488</td>\n    </tr>\n    <tr>\n      <th>1962-12-31</th>\n      <td>13591</td>\n      <td>313640</td>\n      <td>11005</td>\n      <td>345175</td>\n    </tr>\n    <tr>\n      <th>1963-12-31</th>\n      <td>14384</td>\n      <td>339796</td>\n      <td>9503</td>\n      <td>322915</td>\n    </tr>\n    <tr>\n      <th>1964-12-31</th>\n      <td>17273</td>\n      <td>359622</td>\n      <td>8478</td>\n      <td>304897</td>\n    </tr>\n    <tr>\n      <th>1965-12-31</th>\n      <td>19627</td>\n      <td>431834</td>\n      <td>12115</td>\n      <td>523176</td>\n    </tr>\n  </tbody>\n</table>\n</div>"
                    }, 
                    "output_type": "execute_result"
                }
            ], 
            "cell_type": "code", 
            "execution_count": 39, 
            "metadata": {}, 
            "source": "ufao_cr_soyb_bra = qd.get(\"UFAO/CR_SOYB_BRA\")\nufao_cr_soyb_bra.head()"
        }, 
        {
            "outputs": [
                {
                    "metadata": {}, 
                    "execution_count": 37, 
                    "data": {
                        "text/plain": "            Seed - tonnes  Area Harvested - Ha  Yield - Hg/Ha  \\\nDate                                                            \n2003-12-31        6535103             83609392          22801   \n2004-12-31        6551990             91526610          22454   \n2005-12-31        6710853             92437171          23178   \n2006-12-31        6310284             94937821          22986   \n2007-12-31        6791305             90199626          24449   \n\n            Production Quantity - tonnes  \nDate                                      \n2003-12-31                     190642011  \n2004-12-31                     205519398  \n2005-12-31                     214255282  \n2006-12-31                     218232719  \n2007-12-31                     220532612  ", 
                        "text/html": "<div>\n<table border=\"1\" class=\"dataframe\">\n  <thead>\n    <tr style=\"text-align: right;\">\n      <th></th>\n      <th>Seed - tonnes</th>\n      <th>Area Harvested - Ha</th>\n      <th>Yield - Hg/Ha</th>\n      <th>Production Quantity - tonnes</th>\n    </tr>\n    <tr>\n      <th>Date</th>\n      <th></th>\n      <th></th>\n      <th></th>\n      <th></th>\n    </tr>\n  </thead>\n  <tbody>\n    <tr>\n      <th>2003-12-31</th>\n      <td>6535103</td>\n      <td>83609392</td>\n      <td>22801</td>\n      <td>190642011</td>\n    </tr>\n    <tr>\n      <th>2004-12-31</th>\n      <td>6551990</td>\n      <td>91526610</td>\n      <td>22454</td>\n      <td>205519398</td>\n    </tr>\n    <tr>\n      <th>2005-12-31</th>\n      <td>6710853</td>\n      <td>92437171</td>\n      <td>23178</td>\n      <td>214255282</td>\n    </tr>\n    <tr>\n      <th>2006-12-31</th>\n      <td>6310284</td>\n      <td>94937821</td>\n      <td>22986</td>\n      <td>218232719</td>\n    </tr>\n    <tr>\n      <th>2007-12-31</th>\n      <td>6791305</td>\n      <td>90199626</td>\n      <td>24449</td>\n      <td>220532612</td>\n    </tr>\n  </tbody>\n</table>\n</div>"
                    }, 
                    "output_type": "execute_result"
                }
            ], 
            "cell_type": "code", 
            "execution_count": 37, 
            "metadata": {}, 
            "source": "ufao_cr_soyb_5001 = qd.get(\"UFAO/CR_SOYB_5001\")\nufao_cr_soyb_5001.tail()"
        }, 
        {
            "metadata": {}, 
            "cell_type": "markdown", 
            "source": "Note que estas s\u00e9ries temporais somente trazem dados de 1961 at\u00e9 2007, o que provavelmente \u00e9 uma limita\u00e7\u00e3o para nossos objetivos:"
        }, 
        {
            "outputs": [
                {
                    "output_type": "stream", 
                    "text": "Brasil:\n  Ano max: 2007;\n  Ano min: 1961;\n\nMundial:\n  Ano max: 2007;\n  Ano min: 1961;\n", 
                    "name": "stdout"
                }
            ], 
            "cell_type": "code", 
            "execution_count": 69, 
            "metadata": {}, 
            "source": "s = \"Brasil:\\n  Ano max: {};\\n  Ano min: {};\\n\\nMundial:\\n  Ano max: {};\\n  Ano min: {};\".format( ufao_cr_soyb_bra.index.max().year,\n                                                                               ufao_cr_soyb_bra.index.min().year,\n                                                                               ufao_cr_soyb_5001.index.max().year,\n                                                                               ufao_cr_soyb_5001.index.min().year )\nprint(s)"
        }, 
        {
            "outputs": [], 
            "cell_type": "code", 
            "execution_count": 72, 
            "metadata": {}, 
            "source": "# remover os datasets da mem\u00f3ria\ntry:\n    del(ufao_cr_soyb_bra, ufao_cr_soyb_5001)\nexcept NameError:\n    pass"
        }, 
        {
            "metadata": {}, 
            "cell_type": "markdown", 
            "source": "---"
        }, 
        {
            "metadata": {}, 
            "cell_type": "markdown", 
            "source": "## CEPEA - Centro de Estudos Avan\u00e7ados em Economia Aplicada"
        }, 
        {
            "metadata": {}, 
            "cell_type": "markdown", 
            "source": "O [CEPEA](https://www.cepea.esalq.usp.br/br) \u00e9 um centro de pesquisas brasileiro focado em temas sobre a din\u00e2mica da cadeia produtiva do agroneg\u00f3cio. \u00c9 respons\u00e1vel tamb\u00e9m por monitorar o desempenho macroecon\u00f4mico do setor, produzindo e disponibiliazando dados sobre o **PIB do Agroneg\u00f3cio e das cadeias produtivas** e **\u00edndices de exporta\u00e7\u00e3o**. Dados oficiais de indicadores soja est\u00e3o dispon\u00edveis para download [nesta](https://www.cepea.esalq.usp.br/br/indicador/soja.aspx) p\u00e1gina, bem como as metodologias para sua contru\u00e7\u00e3o. O *Quandl*, entretanto, facilita o acesso a estes dados. A s\u00e9rie temporal \u00e9 constru\u00edda por registros di\u00e1rios (dias \u00fateis)."
        }, 
        {
            "metadata": {}, 
            "cell_type": "markdown", 
            "source": "##### Indicador da soja ESALQ / BM&FBOVESPA - Paranagu\u00e1"
        }, 
        {
            "outputs": [
                {
                    "metadata": {}, 
                    "execution_count": 73, 
                    "data": {
                        "text/plain": "            Price US$  Daily %  Monthly %\nDate                                     \n2017-11-09      22.79     0.49       2.75\n2017-11-10      22.55    -1.05       1.67\n2017-11-13      22.70     0.67       2.34\n2017-11-14      22.39    -1.37       0.95\n2017-11-16      22.46     0.31       1.26", 
                        "text/html": "<div>\n<table border=\"1\" class=\"dataframe\">\n  <thead>\n    <tr style=\"text-align: right;\">\n      <th></th>\n      <th>Price US$</th>\n      <th>Daily %</th>\n      <th>Monthly %</th>\n    </tr>\n    <tr>\n      <th>Date</th>\n      <th></th>\n      <th></th>\n      <th></th>\n    </tr>\n  </thead>\n  <tbody>\n    <tr>\n      <th>2017-11-09</th>\n      <td>22.79</td>\n      <td>0.49</td>\n      <td>2.75</td>\n    </tr>\n    <tr>\n      <th>2017-11-10</th>\n      <td>22.55</td>\n      <td>-1.05</td>\n      <td>1.67</td>\n    </tr>\n    <tr>\n      <th>2017-11-13</th>\n      <td>22.70</td>\n      <td>0.67</td>\n      <td>2.34</td>\n    </tr>\n    <tr>\n      <th>2017-11-14</th>\n      <td>22.39</td>\n      <td>-1.37</td>\n      <td>0.95</td>\n    </tr>\n    <tr>\n      <th>2017-11-16</th>\n      <td>22.46</td>\n      <td>0.31</td>\n      <td>1.26</td>\n    </tr>\n  </tbody>\n</table>\n</div>"
                    }, 
                    "output_type": "execute_result"
                }
            ], 
            "cell_type": "code", 
            "execution_count": 73, 
            "metadata": {}, 
            "source": "cepea_soy_c = qd.get(\"CEPEA/SOYBEAN_C\")\ncepea_soy_c.tail()"
        }, 
        {
            "metadata": {}, 
            "cell_type": "markdown", 
            "source": "##### Indicador da soja CEPEA/ESALQ - Paran\u00e1"
        }, 
        {
            "outputs": [
                {
                    "metadata": {}, 
                    "execution_count": 74, 
                    "data": {
                        "text/plain": "            Price US$  Daily %  Monthly %\nDate                                     \n2017-11-09      21.18     0.43       2.87\n2017-11-10      20.99    -0.90       1.94\n2017-11-13      21.06     0.33       2.28\n2017-11-14      20.92    -0.66       1.60\n2017-11-16      21.10     0.86       2.48", 
                        "text/html": "<div>\n<table border=\"1\" class=\"dataframe\">\n  <thead>\n    <tr style=\"text-align: right;\">\n      <th></th>\n      <th>Price US$</th>\n      <th>Daily %</th>\n      <th>Monthly %</th>\n    </tr>\n    <tr>\n      <th>Date</th>\n      <th></th>\n      <th></th>\n      <th></th>\n    </tr>\n  </thead>\n  <tbody>\n    <tr>\n      <th>2017-11-09</th>\n      <td>21.18</td>\n      <td>0.43</td>\n      <td>2.87</td>\n    </tr>\n    <tr>\n      <th>2017-11-10</th>\n      <td>20.99</td>\n      <td>-0.90</td>\n      <td>1.94</td>\n    </tr>\n    <tr>\n      <th>2017-11-13</th>\n      <td>21.06</td>\n      <td>0.33</td>\n      <td>2.28</td>\n    </tr>\n    <tr>\n      <th>2017-11-14</th>\n      <td>20.92</td>\n      <td>-0.66</td>\n      <td>1.60</td>\n    </tr>\n    <tr>\n      <th>2017-11-16</th>\n      <td>21.10</td>\n      <td>0.86</td>\n      <td>2.48</td>\n    </tr>\n  </tbody>\n</table>\n</div>"
                    }, 
                    "output_type": "execute_result"
                }
            ], 
            "cell_type": "code", 
            "execution_count": 74, 
            "metadata": {}, 
            "source": "cepea_soy = qd.get(\"CEPEA/SOYBEAN\")\ncepea_soy.tail()"
        }, 
        {
            "metadata": {}, 
            "cell_type": "markdown", 
            "source": "Entretanto as colunas `Daily %` e `Monthly %` est\u00e3o apenas guardadas para os \u00faltimos 15 dias:"
        }, 
        {
            "outputs": [
                {
                    "output_type": "stream", 
                    "text": "<class 'pandas.core.frame.DataFrame'>\nDatetimeIndex: 2912 entries, 2006-03-13 to 2017-11-14\nData columns (total 3 columns):\nPrice US$    2912 non-null float64\nDaily %      15 non-null float64\nMonthly %    15 non-null float64\ndtypes: float64(3)\nmemory usage: 91.0 KB\n", 
                    "name": "stdout"
                }
            ], 
            "cell_type": "code", 
            "execution_count": 31, 
            "metadata": {}, 
            "source": "d.info()"
        }, 
        {
            "metadata": {}, 
            "cell_type": "markdown", 
            "source": "---"
        }, 
        {
            "metadata": {}, 
            "cell_type": "markdown", 
            "source": "## Chicago Mercantile Exchange (CME)"
        }, 
        {
            "metadata": {}, 
            "cell_type": "markdown", 
            "source": "Dados para uma grande variedade de commodities, incluindo gr\u00e3os."
        }, 
        {
            "metadata": {}, 
            "cell_type": "markdown", 
            "source": "* [CME/SH1964](https://www.quandl.com/data/CME/SH1964-Soybeans-Futures-March-1964-SH1964-CBOT): Soybeans Futures, March 1964, SH1964, CBOT\n* [CME/SH1963](https://www.quandl.com/data/CME/SH1963-Soybeans-Futures-March-1963-SH1963-CBOT): Soybeans Futures, March 1963, SH1963, CBOT\n* [CME/SH1962](https://www.quandl.com/data/CME/SH1962-Soybeans-Futures-March-1962-SH1962-CBOT): Soybeans Futures, March 1962, SH1962, CBOT"
        }, 
        {
            "outputs": [
                {
                    "metadata": {}, 
                    "execution_count": 77, 
                    "data": {
                        "text/plain": "             Open   High    Low  Last Change  Settle  Volume  \\\nDate                                                           \n1964-03-13  267.2  269.0  267.2  None   None   268.7    1860   \n1964-03-16  268.6  269.6  267.0  None   None   268.2    2013   \n1964-03-17  268.4  269.0  267.3  None   None   267.5    3347   \n1964-03-18  267.7  268.1  263.1  None   None   263.2    3437   \n1964-03-19  262.4  263.0  256.4  None   None   259.2    6352   \n\n            Prev. Day Open Interest  \nDate                                 \n1964-03-13                    12204  \n1964-03-16                    12032  \n1964-03-17                    11169  \n1964-03-18                    10643  \n1964-03-19                     9070  ", 
                        "text/html": "<div>\n<table border=\"1\" class=\"dataframe\">\n  <thead>\n    <tr style=\"text-align: right;\">\n      <th></th>\n      <th>Open</th>\n      <th>High</th>\n      <th>Low</th>\n      <th>Last</th>\n      <th>Change</th>\n      <th>Settle</th>\n      <th>Volume</th>\n      <th>Prev. Day Open Interest</th>\n    </tr>\n    <tr>\n      <th>Date</th>\n      <th></th>\n      <th></th>\n      <th></th>\n      <th></th>\n      <th></th>\n      <th></th>\n      <th></th>\n      <th></th>\n    </tr>\n  </thead>\n  <tbody>\n    <tr>\n      <th>1964-03-13</th>\n      <td>267.2</td>\n      <td>269.0</td>\n      <td>267.2</td>\n      <td>None</td>\n      <td>None</td>\n      <td>268.7</td>\n      <td>1860</td>\n      <td>12204</td>\n    </tr>\n    <tr>\n      <th>1964-03-16</th>\n      <td>268.6</td>\n      <td>269.6</td>\n      <td>267.0</td>\n      <td>None</td>\n      <td>None</td>\n      <td>268.2</td>\n      <td>2013</td>\n      <td>12032</td>\n    </tr>\n    <tr>\n      <th>1964-03-17</th>\n      <td>268.4</td>\n      <td>269.0</td>\n      <td>267.3</td>\n      <td>None</td>\n      <td>None</td>\n      <td>267.5</td>\n      <td>3347</td>\n      <td>11169</td>\n    </tr>\n    <tr>\n      <th>1964-03-18</th>\n      <td>267.7</td>\n      <td>268.1</td>\n      <td>263.1</td>\n      <td>None</td>\n      <td>None</td>\n      <td>263.2</td>\n      <td>3437</td>\n      <td>10643</td>\n    </tr>\n    <tr>\n      <th>1964-03-19</th>\n      <td>262.4</td>\n      <td>263.0</td>\n      <td>256.4</td>\n      <td>None</td>\n      <td>None</td>\n      <td>259.2</td>\n      <td>6352</td>\n      <td>9070</td>\n    </tr>\n  </tbody>\n</table>\n</div>"
                    }, 
                    "output_type": "execute_result"
                }
            ], 
            "cell_type": "code", 
            "execution_count": 77, 
            "metadata": {}, 
            "source": "d = qd.get(\"CME/SH1964\")\nd.tail()"
        }, 
        {
            "outputs": [
                {
                    "metadata": {}, 
                    "execution_count": 78, 
                    "data": {
                        "text/plain": "             Open   High    Low  Last Change  Settle  Volume  \\\nDate                                                           \n1963-03-14  261.4  261.7  260.4  None   None   260.4    2012   \n1963-03-15  261.4  261.4  259.6  None   None   260.4    2116   \n1963-03-18  254.0  258.0  254.0  None   None   255.6    2131   \n1963-03-19  256.4  256.6  255.5  None   None   256.4    3712   \n1963-03-20  256.4  256.6  252.0  None   None   252.0    2685   \n\n            Prev. Day Open Interest  \nDate                                 \n1963-03-14                     8612  \n1963-03-15                     8055  \n1963-03-18                     7289  \n1963-03-19                     5649  \n1963-03-20                     4021  ", 
                        "text/html": "<div>\n<table border=\"1\" class=\"dataframe\">\n  <thead>\n    <tr style=\"text-align: right;\">\n      <th></th>\n      <th>Open</th>\n      <th>High</th>\n      <th>Low</th>\n      <th>Last</th>\n      <th>Change</th>\n      <th>Settle</th>\n      <th>Volume</th>\n      <th>Prev. Day Open Interest</th>\n    </tr>\n    <tr>\n      <th>Date</th>\n      <th></th>\n      <th></th>\n      <th></th>\n      <th></th>\n      <th></th>\n      <th></th>\n      <th></th>\n      <th></th>\n    </tr>\n  </thead>\n  <tbody>\n    <tr>\n      <th>1963-03-14</th>\n      <td>261.4</td>\n      <td>261.7</td>\n      <td>260.4</td>\n      <td>None</td>\n      <td>None</td>\n      <td>260.4</td>\n      <td>2012</td>\n      <td>8612</td>\n    </tr>\n    <tr>\n      <th>1963-03-15</th>\n      <td>261.4</td>\n      <td>261.4</td>\n      <td>259.6</td>\n      <td>None</td>\n      <td>None</td>\n      <td>260.4</td>\n      <td>2116</td>\n      <td>8055</td>\n    </tr>\n    <tr>\n      <th>1963-03-18</th>\n      <td>254.0</td>\n      <td>258.0</td>\n      <td>254.0</td>\n      <td>None</td>\n      <td>None</td>\n      <td>255.6</td>\n      <td>2131</td>\n      <td>7289</td>\n    </tr>\n    <tr>\n      <th>1963-03-19</th>\n      <td>256.4</td>\n      <td>256.6</td>\n      <td>255.5</td>\n      <td>None</td>\n      <td>None</td>\n      <td>256.4</td>\n      <td>3712</td>\n      <td>5649</td>\n    </tr>\n    <tr>\n      <th>1963-03-20</th>\n      <td>256.4</td>\n      <td>256.6</td>\n      <td>252.0</td>\n      <td>None</td>\n      <td>None</td>\n      <td>252.0</td>\n      <td>2685</td>\n      <td>4021</td>\n    </tr>\n  </tbody>\n</table>\n</div>"
                    }, 
                    "output_type": "execute_result"
                }
            ], 
            "cell_type": "code", 
            "execution_count": 78, 
            "metadata": {}, 
            "source": "d = qd.get(\"CME/SH1963\")\nd.tail()"
        }, 
        {
            "outputs": [
                {
                    "metadata": {}, 
                    "execution_count": 79, 
                    "data": {
                        "text/plain": "             Open   High    Low  Last Change  Settle  Volume  \\\nDate                                                           \n1962-03-15  243.2  245.0  243.2  None   None   244.7    1947   \n1962-03-16  244.6  245.4  244.6  None   None   245.0    2283   \n1962-03-19  244.6  244.6  244.2  None   None   244.2    1123   \n1962-03-20  244.4  244.5  243.6  None   None   244.3     850   \n1962-03-21  244.6  246.1  244.6  None   None   244.6    1150   \n\n            Prev. Day Open Interest  \nDate                                 \n1962-03-15                     2666  \n1962-03-16                     2438  \n1962-03-19                     2035  \n1962-03-20                     1738  \n1962-03-21                     1523  ", 
                        "text/html": "<div>\n<table border=\"1\" class=\"dataframe\">\n  <thead>\n    <tr style=\"text-align: right;\">\n      <th></th>\n      <th>Open</th>\n      <th>High</th>\n      <th>Low</th>\n      <th>Last</th>\n      <th>Change</th>\n      <th>Settle</th>\n      <th>Volume</th>\n      <th>Prev. Day Open Interest</th>\n    </tr>\n    <tr>\n      <th>Date</th>\n      <th></th>\n      <th></th>\n      <th></th>\n      <th></th>\n      <th></th>\n      <th></th>\n      <th></th>\n      <th></th>\n    </tr>\n  </thead>\n  <tbody>\n    <tr>\n      <th>1962-03-15</th>\n      <td>243.2</td>\n      <td>245.0</td>\n      <td>243.2</td>\n      <td>None</td>\n      <td>None</td>\n      <td>244.7</td>\n      <td>1947</td>\n      <td>2666</td>\n    </tr>\n    <tr>\n      <th>1962-03-16</th>\n      <td>244.6</td>\n      <td>245.4</td>\n      <td>244.6</td>\n      <td>None</td>\n      <td>None</td>\n      <td>245.0</td>\n      <td>2283</td>\n      <td>2438</td>\n    </tr>\n    <tr>\n      <th>1962-03-19</th>\n      <td>244.6</td>\n      <td>244.6</td>\n      <td>244.2</td>\n      <td>None</td>\n      <td>None</td>\n      <td>244.2</td>\n      <td>1123</td>\n      <td>2035</td>\n    </tr>\n    <tr>\n      <th>1962-03-20</th>\n      <td>244.4</td>\n      <td>244.5</td>\n      <td>243.6</td>\n      <td>None</td>\n      <td>None</td>\n      <td>244.3</td>\n      <td>850</td>\n      <td>1738</td>\n    </tr>\n    <tr>\n      <th>1962-03-21</th>\n      <td>244.6</td>\n      <td>246.1</td>\n      <td>244.6</td>\n      <td>None</td>\n      <td>None</td>\n      <td>244.6</td>\n      <td>1150</td>\n      <td>1523</td>\n    </tr>\n  </tbody>\n</table>\n</div>"
                    }, 
                    "output_type": "execute_result"
                }
            ], 
            "cell_type": "code", 
            "execution_count": 79, 
            "metadata": {}, 
            "source": "d = qd.get(\"CME/SH1962\")\nd.tail()"
        }, 
        {
            "metadata": {}, 
            "cell_type": "markdown", 
            "source": "---"
        }, 
        {
            "metadata": {}, 
            "cell_type": "markdown", 
            "source": "## Banco Mundial\n### GEM Commodities - Global Economic Monitor"
        }, 
        {
            "metadata": {}, 
            "cell_type": "markdown", 
            "source": "Pre\u00e7os de commodities e \u00edndices desde 1960."
        }, 
        {
            "metadata": {}, 
            "cell_type": "markdown", 
            "source": "* [WGEC/WLD_SOYBEANS](https://www.quandl.com/data/WGEC/WLD_SOYBEANS-Soybeans-mt-current-World): Pre\u00e7o da soja mundial em d\u00f3lar/mt. \n\n*obs*: mt = \"metric ton\"."
        }, 
        {
            "outputs": [
                {
                    "metadata": {}, 
                    "execution_count": 75, 
                    "data": {
                        "text/plain": "                 Value\nDate                  \n2012-12-31  591.416667\n2013-12-31  538.416667\n2014-12-31  491.770833\n2015-12-31  390.416667\n2016-12-31  405.666667", 
                        "text/html": "<div>\n<table border=\"1\" class=\"dataframe\">\n  <thead>\n    <tr style=\"text-align: right;\">\n      <th></th>\n      <th>Value</th>\n    </tr>\n    <tr>\n      <th>Date</th>\n      <th></th>\n    </tr>\n  </thead>\n  <tbody>\n    <tr>\n      <th>2012-12-31</th>\n      <td>591.416667</td>\n    </tr>\n    <tr>\n      <th>2013-12-31</th>\n      <td>538.416667</td>\n    </tr>\n    <tr>\n      <th>2014-12-31</th>\n      <td>491.770833</td>\n    </tr>\n    <tr>\n      <th>2015-12-31</th>\n      <td>390.416667</td>\n    </tr>\n    <tr>\n      <th>2016-12-31</th>\n      <td>405.666667</td>\n    </tr>\n  </tbody>\n</table>\n</div>"
                    }, 
                    "output_type": "execute_result"
                }
            ], 
            "cell_type": "code", 
            "execution_count": 75, 
            "metadata": {}, 
            "source": "d=qd.get(\"WGEC/WLD_SOYBEANS\")\nd.tail()"
        }, 
        {
            "metadata": {}, 
            "cell_type": "markdown", 
            "source": "---"
        }, 
        {
            "metadata": {}, 
            "cell_type": "markdown", 
            "source": "## Banco Central do Brasil"
        }, 
        {
            "metadata": {}, 
            "cell_type": "markdown", 
            "source": "Dados macroecon\u00f4micos brasileiros."
        }, 
        {
            "metadata": {}, 
            "cell_type": "markdown", 
            "source": "[BCB/4218](https://www.quandl.com/data/BCB/4218-Exports-Kg-Soybeans-including-grinded): Exporta\u00e7\u00e3o ($kg$) de soja, incluindo triturada."
        }, 
        {
            "outputs": [
                {
                    "metadata": {}, 
                    "execution_count": 76, 
                    "data": {
                        "text/plain": "                 Value\nDate                  \n2017-06-30  9197020800\n2017-07-31  6955220437\n2017-08-31  5952411306\n2017-09-30  4272462928\n2017-10-31  2486938126", 
                        "text/html": "<div>\n<table border=\"1\" class=\"dataframe\">\n  <thead>\n    <tr style=\"text-align: right;\">\n      <th></th>\n      <th>Value</th>\n    </tr>\n    <tr>\n      <th>Date</th>\n      <th></th>\n    </tr>\n  </thead>\n  <tbody>\n    <tr>\n      <th>2017-06-30</th>\n      <td>9197020800</td>\n    </tr>\n    <tr>\n      <th>2017-07-31</th>\n      <td>6955220437</td>\n    </tr>\n    <tr>\n      <th>2017-08-31</th>\n      <td>5952411306</td>\n    </tr>\n    <tr>\n      <th>2017-09-30</th>\n      <td>4272462928</td>\n    </tr>\n    <tr>\n      <th>2017-10-31</th>\n      <td>2486938126</td>\n    </tr>\n  </tbody>\n</table>\n</div>"
                    }, 
                    "output_type": "execute_result"
                }
            ], 
            "cell_type": "code", 
            "execution_count": 76, 
            "metadata": {}, 
            "source": "d=qd.get(\"BCB/4218\")\nd.tail()"
        }, 
        {
            "metadata": {}, 
            "cell_type": "markdown", 
            "source": "[BCB/2971](https://www.quandl.com/data/BCB/2971-Exports-Fob-Soybeans-including-grinded): Exporta\u00e7\u00e3o ($\\$$) de soja, incluindo triturada."
        }, 
        {
            "outputs": [
                {
                    "metadata": {}, 
                    "execution_count": 39, 
                    "data": {
                        "text/plain": "                Value\nDate                 \n1989-01-31    1817500\n1989-02-28    3240425\n1989-03-31    3169339\n1989-04-30   91883451\n1989-05-31  103203860", 
                        "text/html": "<div>\n<table border=\"1\" class=\"dataframe\">\n  <thead>\n    <tr style=\"text-align: right;\">\n      <th></th>\n      <th>Value</th>\n    </tr>\n    <tr>\n      <th>Date</th>\n      <th></th>\n    </tr>\n  </thead>\n  <tbody>\n    <tr>\n      <th>1989-01-31</th>\n      <td>1817500</td>\n    </tr>\n    <tr>\n      <th>1989-02-28</th>\n      <td>3240425</td>\n    </tr>\n    <tr>\n      <th>1989-03-31</th>\n      <td>3169339</td>\n    </tr>\n    <tr>\n      <th>1989-04-30</th>\n      <td>91883451</td>\n    </tr>\n    <tr>\n      <th>1989-05-31</th>\n      <td>103203860</td>\n    </tr>\n  </tbody>\n</table>\n</div>"
                    }, 
                    "output_type": "execute_result"
                }
            ], 
            "cell_type": "code", 
            "execution_count": 39, 
            "metadata": {}, 
            "source": "d=qd.get(\"BCB/2971\")\nd.head()"
        }, 
        {
            "metadata": {}, 
            "cell_type": "markdown", 
            "source": "---"
        }, 
        {
            "metadata": {}, 
            "cell_type": "markdown", 
            "source": "## Wiki Commodities"
        }, 
        {
            "outputs": [
                {
                    "metadata": {}, 
                    "execution_count": 80, 
                    "data": {
                        "text/plain": "            Column 1\nDate                \n2017-06-30       380\n2017-07-31       408\n2017-08-31       390\n2017-09-30       397\n2017-10-31       399", 
                        "text/html": "<div>\n<table border=\"1\" class=\"dataframe\">\n  <thead>\n    <tr style=\"text-align: right;\">\n      <th></th>\n      <th>Column 1</th>\n    </tr>\n    <tr>\n      <th>Date</th>\n      <th></th>\n    </tr>\n  </thead>\n  <tbody>\n    <tr>\n      <th>2017-06-30</th>\n      <td>380</td>\n    </tr>\n    <tr>\n      <th>2017-07-31</th>\n      <td>408</td>\n    </tr>\n    <tr>\n      <th>2017-08-31</th>\n      <td>390</td>\n    </tr>\n    <tr>\n      <th>2017-09-30</th>\n      <td>397</td>\n    </tr>\n    <tr>\n      <th>2017-10-31</th>\n      <td>399</td>\n    </tr>\n  </tbody>\n</table>\n</div>"
                    }, 
                    "output_type": "execute_result"
                }
            ], 
            "cell_type": "code", 
            "execution_count": 80, 
            "metadata": {}, 
            "source": "d=qd.get(\"COM/WLD_SOYBEANS\")\nd.tail()"
        }, 
        {
            "metadata": {
                "collapsed": true
            }, 
            "cell_type": "markdown", 
            "source": "---"
        }, 
        {
            "metadata": {}, 
            "cell_type": "markdown", 
            "source": "# Outras fontes aparentemente relevantes"
        }, 
        {
            "metadata": {}, 
            "cell_type": "markdown", 
            "source": "* [CME(Chicago Mercantile Exchange)](http://www.cmegroup.com/)\n  * [MDP(Market Data Platform) for Future and Options markets](http://www.cmegroup.com/market-data/distributor/market-data-platform.html)\n* [CBOE (Chicago Board Options Exchange)](http://www.cboe.com/) <- Acesso aos dados \u00e9 pago!"
        }
    ], 
    "nbformat": 4, 
    "nbformat_minor": 1
}