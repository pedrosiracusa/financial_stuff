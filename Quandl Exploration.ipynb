{
    "nbformat": 4, 
    "nbformat_minor": 1, 
    "cells": [
        {
            "source": "# Acesso a dados pela API da Quandl", 
            "cell_type": "markdown", 
            "metadata": {}
        }, 
        {
            "execution_count": 5, 
            "metadata": {}, 
            "outputs": [], 
            "cell_type": "code", 
            "source": "import quandl as qd"
        }, 
        {
            "source": "Primeiramente devemos autenticar usando a chave da API.", 
            "cell_type": "markdown", 
            "metadata": {}
        }, 
        {
            "execution_count": 6, 
            "metadata": {
                "collapsed": true
            }, 
            "outputs": [], 
            "cell_type": "code", 
            "source": "qd.ApiConfig.api_key = \"1xr5CsKNu3LGUoC-Wh6P\""
        }, 
        {
            "source": "## Dados de soja do CEPEA", 
            "cell_type": "markdown", 
            "metadata": {}
        }, 
        {
            "execution_count": 30, 
            "metadata": {}, 
            "outputs": [
                {
                    "data": {
                        "text/plain": "            Price US$  Daily %  Monthly %\nDate                                     \n2017-11-08      22.68     0.80       2.25\n2017-11-09      22.79     0.49       2.75\n2017-11-10      22.55    -1.05       1.67\n2017-11-13      22.70     0.67       2.34\n2017-11-14      22.39    -1.37       0.95", 
                        "text/html": "<div>\n<table border=\"1\" class=\"dataframe\">\n  <thead>\n    <tr style=\"text-align: right;\">\n      <th></th>\n      <th>Price US$</th>\n      <th>Daily %</th>\n      <th>Monthly %</th>\n    </tr>\n    <tr>\n      <th>Date</th>\n      <th></th>\n      <th></th>\n      <th></th>\n    </tr>\n  </thead>\n  <tbody>\n    <tr>\n      <th>2017-11-08</th>\n      <td>22.68</td>\n      <td>0.80</td>\n      <td>2.25</td>\n    </tr>\n    <tr>\n      <th>2017-11-09</th>\n      <td>22.79</td>\n      <td>0.49</td>\n      <td>2.75</td>\n    </tr>\n    <tr>\n      <th>2017-11-10</th>\n      <td>22.55</td>\n      <td>-1.05</td>\n      <td>1.67</td>\n    </tr>\n    <tr>\n      <th>2017-11-13</th>\n      <td>22.70</td>\n      <td>0.67</td>\n      <td>2.34</td>\n    </tr>\n    <tr>\n      <th>2017-11-14</th>\n      <td>22.39</td>\n      <td>-1.37</td>\n      <td>0.95</td>\n    </tr>\n  </tbody>\n</table>\n</div>"
                    }, 
                    "execution_count": 30, 
                    "output_type": "execute_result", 
                    "metadata": {}
                }
            ], 
            "cell_type": "code", 
            "source": "d = quandl.get(\"CEPEA/SOYBEAN_C\")\nd.tail()"
        }, 
        {
            "execution_count": 31, 
            "metadata": {}, 
            "outputs": [
                {
                    "text": "<class 'pandas.core.frame.DataFrame'>\nDatetimeIndex: 2912 entries, 2006-03-13 to 2017-11-14\nData columns (total 3 columns):\nPrice US$    2912 non-null float64\nDaily %      15 non-null float64\nMonthly %    15 non-null float64\ndtypes: float64(3)\nmemory usage: 91.0 KB\n", 
                    "name": "stdout", 
                    "output_type": "stream"
                }
            ], 
            "cell_type": "code", 
            "source": "d.info()"
        }, 
        {
            "source": "---", 
            "cell_type": "markdown", 
            "metadata": {}
        }, 
        {
            "source": "## World Bank Global Economic Monitor (GEM) Commodities", 
            "cell_type": "markdown", 
            "metadata": {}
        }, 
        {
            "source": "Pre\u00e7os de commodities e \u00edndices desde 1960.\n\n", 
            "cell_type": "markdown", 
            "metadata": {}
        }, 
        {
            "source": "* [WGEC/WLD_SOYBEANS](https://www.quandl.com/data/WGEC/WLD_SOYBEANS-Soybeans-mt-current-World): Pre\u00e7o da soja mundial em d\u00f3lar/mt. \n\n*obs*: mt = \"metric ton\".", 
            "cell_type": "markdown", 
            "metadata": {}
        }, 
        {
            "execution_count": 35, 
            "metadata": {}, 
            "outputs": [
                {
                    "data": {
                        "text/plain": "                 Value\nDate                  \n1960-12-31   91.833333\n1961-12-31  109.333333\n1962-12-31  100.540000\n1963-12-31  110.093333\n1964-12-31  110.505833", 
                        "text/html": "<div>\n<table border=\"1\" class=\"dataframe\">\n  <thead>\n    <tr style=\"text-align: right;\">\n      <th></th>\n      <th>Value</th>\n    </tr>\n    <tr>\n      <th>Date</th>\n      <th></th>\n    </tr>\n  </thead>\n  <tbody>\n    <tr>\n      <th>1960-12-31</th>\n      <td>91.833333</td>\n    </tr>\n    <tr>\n      <th>1961-12-31</th>\n      <td>109.333333</td>\n    </tr>\n    <tr>\n      <th>1962-12-31</th>\n      <td>100.540000</td>\n    </tr>\n    <tr>\n      <th>1963-12-31</th>\n      <td>110.093333</td>\n    </tr>\n    <tr>\n      <th>1964-12-31</th>\n      <td>110.505833</td>\n    </tr>\n  </tbody>\n</table>\n</div>"
                    }, 
                    "execution_count": 35, 
                    "output_type": "execute_result", 
                    "metadata": {}
                }
            ], 
            "cell_type": "code", 
            "source": "d=qd.get(\"WGEC/WLD_SOYBEANS\")\nd.head()"
        }, 
        {
            "source": "---", 
            "cell_type": "markdown", 
            "metadata": {}
        }, 
        {
            "source": "## Banco Central do Brasil", 
            "cell_type": "markdown", 
            "metadata": {}
        }, 
        {
            "source": "Dados macroecon\u00f4micos brasileiros.", 
            "cell_type": "markdown", 
            "metadata": {}
        }, 
        {
            "source": "[BCB/4218](https://www.quandl.com/data/BCB/4218-Exports-Kg-Soybeans-including-grinded): Exporta\u00e7\u00e3o ($kg$) de soja, incluindo triturada.", 
            "cell_type": "markdown", 
            "metadata": {}
        }, 
        {
            "execution_count": 37, 
            "metadata": {}, 
            "outputs": [
                {
                    "data": {
                        "text/plain": "                Value\nDate                 \n1989-01-31    5000000\n1989-02-28    9750000\n1989-03-31   10537650\n1989-04-30  320065957\n1989-05-31  373374202", 
                        "text/html": "<div>\n<table border=\"1\" class=\"dataframe\">\n  <thead>\n    <tr style=\"text-align: right;\">\n      <th></th>\n      <th>Value</th>\n    </tr>\n    <tr>\n      <th>Date</th>\n      <th></th>\n    </tr>\n  </thead>\n  <tbody>\n    <tr>\n      <th>1989-01-31</th>\n      <td>5000000</td>\n    </tr>\n    <tr>\n      <th>1989-02-28</th>\n      <td>9750000</td>\n    </tr>\n    <tr>\n      <th>1989-03-31</th>\n      <td>10537650</td>\n    </tr>\n    <tr>\n      <th>1989-04-30</th>\n      <td>320065957</td>\n    </tr>\n    <tr>\n      <th>1989-05-31</th>\n      <td>373374202</td>\n    </tr>\n  </tbody>\n</table>\n</div>"
                    }, 
                    "execution_count": 37, 
                    "output_type": "execute_result", 
                    "metadata": {}
                }
            ], 
            "cell_type": "code", 
            "source": "d=qd.get(\"BCB/4218\")\nd.head()"
        }, 
        {
            "source": "[BCB/2971](https://www.quandl.com/data/BCB/2971-Exports-Fob-Soybeans-including-grinded): Exporta\u00e7\u00e3o ($\\$$) de soja, incluindo triturada.", 
            "cell_type": "markdown", 
            "metadata": {}
        }, 
        {
            "execution_count": 39, 
            "metadata": {}, 
            "outputs": [
                {
                    "data": {
                        "text/plain": "                Value\nDate                 \n1989-01-31    1817500\n1989-02-28    3240425\n1989-03-31    3169339\n1989-04-30   91883451\n1989-05-31  103203860", 
                        "text/html": "<div>\n<table border=\"1\" class=\"dataframe\">\n  <thead>\n    <tr style=\"text-align: right;\">\n      <th></th>\n      <th>Value</th>\n    </tr>\n    <tr>\n      <th>Date</th>\n      <th></th>\n    </tr>\n  </thead>\n  <tbody>\n    <tr>\n      <th>1989-01-31</th>\n      <td>1817500</td>\n    </tr>\n    <tr>\n      <th>1989-02-28</th>\n      <td>3240425</td>\n    </tr>\n    <tr>\n      <th>1989-03-31</th>\n      <td>3169339</td>\n    </tr>\n    <tr>\n      <th>1989-04-30</th>\n      <td>91883451</td>\n    </tr>\n    <tr>\n      <th>1989-05-31</th>\n      <td>103203860</td>\n    </tr>\n  </tbody>\n</table>\n</div>"
                    }, 
                    "execution_count": 39, 
                    "output_type": "execute_result", 
                    "metadata": {}
                }
            ], 
            "cell_type": "code", 
            "source": "d=qd.get(\"BCB/2971\")\nd.head()"
        }, 
        {
            "source": "---", 
            "cell_type": "markdown", 
            "metadata": {}
        }, 
        {
            "source": "## Chicago Mercantile Exchange (CME)", 
            "cell_type": "markdown", 
            "metadata": {}
        }, 
        {
            "source": "Dados para uma grande variedade de commodities, incluindo gr\u00e3os.", 
            "cell_type": "markdown", 
            "metadata": {}
        }, 
        {
            "source": "* [CME/SH1964](https://www.quandl.com/data/CME/SH1964-Soybeans-Futures-March-1964-SH1964-CBOT): Soybeans Futures, March 1964, SH1964, CBOT\n* [CME/SH1963](https://www.quandl.com/data/CME/SH1963-Soybeans-Futures-March-1963-SH1963-CBOT): Soybeans Futures, March 1963, SH1963, CBOT\n* [CME/SH1962](https://www.quandl.com/data/CME/SH1962-Soybeans-Futures-March-1962-SH1962-CBOT): Soybeans Futures, March 1962, SH1962, CBOT", 
            "cell_type": "markdown", 
            "metadata": {}
        }, 
        {
            "execution_count": 34, 
            "metadata": {}, 
            "outputs": [
                {
                    "data": {
                        "text/plain": "             Open   High    Low  Last Change  Settle  Volume  \\\nDate                                                           \n1963-04-02  250.0  251.2  250.0  None   None   250.2       0   \n1963-04-03  250.1  251.2  250.1  None   None   251.0     417   \n1963-04-04  251.2  251.2  250.2  None   None   250.2     156   \n1963-04-05  250.2  250.6  250.2  None   None   250.5     856   \n1963-04-08  250.0  251.0  250.0  None   None   251.0    1011   \n\n            Prev. Day Open Interest  \nDate                                 \n1963-04-02                        0  \n1963-04-03                      402  \n1963-04-04                      498  \n1963-04-05                     1158  \n1963-04-08                     2169  ", 
                        "text/html": "<div>\n<table border=\"1\" class=\"dataframe\">\n  <thead>\n    <tr style=\"text-align: right;\">\n      <th></th>\n      <th>Open</th>\n      <th>High</th>\n      <th>Low</th>\n      <th>Last</th>\n      <th>Change</th>\n      <th>Settle</th>\n      <th>Volume</th>\n      <th>Prev. Day Open Interest</th>\n    </tr>\n    <tr>\n      <th>Date</th>\n      <th></th>\n      <th></th>\n      <th></th>\n      <th></th>\n      <th></th>\n      <th></th>\n      <th></th>\n      <th></th>\n    </tr>\n  </thead>\n  <tbody>\n    <tr>\n      <th>1963-04-02</th>\n      <td>250.0</td>\n      <td>251.2</td>\n      <td>250.0</td>\n      <td>None</td>\n      <td>None</td>\n      <td>250.2</td>\n      <td>0</td>\n      <td>0</td>\n    </tr>\n    <tr>\n      <th>1963-04-03</th>\n      <td>250.1</td>\n      <td>251.2</td>\n      <td>250.1</td>\n      <td>None</td>\n      <td>None</td>\n      <td>251.0</td>\n      <td>417</td>\n      <td>402</td>\n    </tr>\n    <tr>\n      <th>1963-04-04</th>\n      <td>251.2</td>\n      <td>251.2</td>\n      <td>250.2</td>\n      <td>None</td>\n      <td>None</td>\n      <td>250.2</td>\n      <td>156</td>\n      <td>498</td>\n    </tr>\n    <tr>\n      <th>1963-04-05</th>\n      <td>250.2</td>\n      <td>250.6</td>\n      <td>250.2</td>\n      <td>None</td>\n      <td>None</td>\n      <td>250.5</td>\n      <td>856</td>\n      <td>1158</td>\n    </tr>\n    <tr>\n      <th>1963-04-08</th>\n      <td>250.0</td>\n      <td>251.0</td>\n      <td>250.0</td>\n      <td>None</td>\n      <td>None</td>\n      <td>251.0</td>\n      <td>1011</td>\n      <td>2169</td>\n    </tr>\n  </tbody>\n</table>\n</div>"
                    }, 
                    "execution_count": 34, 
                    "output_type": "execute_result", 
                    "metadata": {}
                }
            ], 
            "cell_type": "code", 
            "source": "d = qd.get(\"CME/SH1964\")\nd.head()"
        }, 
        {
            "execution_count": 23, 
            "metadata": {}, 
            "outputs": [
                {
                    "data": {
                        "text/plain": "             Open   High    Low  Last Change  Settle  Volume  \\\nDate                                                           \n1962-04-02  246.6  247.2  246.6  None   None   247.0       0   \n1962-04-03  246.6  246.6  246.6  None   None   246.6      17   \n1962-04-04  247.0  247.2  247.0  None   None   247.2       0   \n1962-04-05  247.2  247.6  247.2  None   None   247.4      10   \n1962-04-06  247.6  247.6  247.6  None   None   247.6      70   \n\n            Prev. Day Open Interest  \nDate                                 \n1962-04-02                        0  \n1962-04-03                       17  \n1962-04-04                       17  \n1962-04-05                       27  \n1962-04-06                       87  ", 
                        "text/html": "<div>\n<table border=\"1\" class=\"dataframe\">\n  <thead>\n    <tr style=\"text-align: right;\">\n      <th></th>\n      <th>Open</th>\n      <th>High</th>\n      <th>Low</th>\n      <th>Last</th>\n      <th>Change</th>\n      <th>Settle</th>\n      <th>Volume</th>\n      <th>Prev. Day Open Interest</th>\n    </tr>\n    <tr>\n      <th>Date</th>\n      <th></th>\n      <th></th>\n      <th></th>\n      <th></th>\n      <th></th>\n      <th></th>\n      <th></th>\n      <th></th>\n    </tr>\n  </thead>\n  <tbody>\n    <tr>\n      <th>1962-04-02</th>\n      <td>246.6</td>\n      <td>247.2</td>\n      <td>246.6</td>\n      <td>None</td>\n      <td>None</td>\n      <td>247.0</td>\n      <td>0</td>\n      <td>0</td>\n    </tr>\n    <tr>\n      <th>1962-04-03</th>\n      <td>246.6</td>\n      <td>246.6</td>\n      <td>246.6</td>\n      <td>None</td>\n      <td>None</td>\n      <td>246.6</td>\n      <td>17</td>\n      <td>17</td>\n    </tr>\n    <tr>\n      <th>1962-04-04</th>\n      <td>247.0</td>\n      <td>247.2</td>\n      <td>247.0</td>\n      <td>None</td>\n      <td>None</td>\n      <td>247.2</td>\n      <td>0</td>\n      <td>17</td>\n    </tr>\n    <tr>\n      <th>1962-04-05</th>\n      <td>247.2</td>\n      <td>247.6</td>\n      <td>247.2</td>\n      <td>None</td>\n      <td>None</td>\n      <td>247.4</td>\n      <td>10</td>\n      <td>27</td>\n    </tr>\n    <tr>\n      <th>1962-04-06</th>\n      <td>247.6</td>\n      <td>247.6</td>\n      <td>247.6</td>\n      <td>None</td>\n      <td>None</td>\n      <td>247.6</td>\n      <td>70</td>\n      <td>87</td>\n    </tr>\n  </tbody>\n</table>\n</div>"
                    }, 
                    "execution_count": 23, 
                    "output_type": "execute_result", 
                    "metadata": {}
                }
            ], 
            "cell_type": "code", 
            "source": "d = qd.get(\"CME/SH1963\")\nd.head()"
        }, 
        {
            "execution_count": 24, 
            "metadata": {}, 
            "outputs": [
                {
                    "data": {
                        "text/plain": "             Open   High    Low  Last Change  Settle  Volume  \\\nDate                                                           \n1961-04-03  249.0  249.6  248.6  None   None   249.6       0   \n1961-04-04  249.6  250.4  249.4  None   None   250.2     507   \n1961-04-05  250.6  251.4  250.3  None   None   251.4     802   \n1961-04-06  252.2  252.2  250.4  None   None   250.6    1036   \n1961-04-07  251.4  251.4  249.6  None   None   250.2    1075   \n\n            Prev. Day Open Interest  \nDate                                 \n1961-04-03                        0  \n1961-04-04                      492  \n1961-04-05                     1254  \n1961-04-06                     1742  \n1961-04-07                     2573  ", 
                        "text/html": "<div>\n<table border=\"1\" class=\"dataframe\">\n  <thead>\n    <tr style=\"text-align: right;\">\n      <th></th>\n      <th>Open</th>\n      <th>High</th>\n      <th>Low</th>\n      <th>Last</th>\n      <th>Change</th>\n      <th>Settle</th>\n      <th>Volume</th>\n      <th>Prev. Day Open Interest</th>\n    </tr>\n    <tr>\n      <th>Date</th>\n      <th></th>\n      <th></th>\n      <th></th>\n      <th></th>\n      <th></th>\n      <th></th>\n      <th></th>\n      <th></th>\n    </tr>\n  </thead>\n  <tbody>\n    <tr>\n      <th>1961-04-03</th>\n      <td>249.0</td>\n      <td>249.6</td>\n      <td>248.6</td>\n      <td>None</td>\n      <td>None</td>\n      <td>249.6</td>\n      <td>0</td>\n      <td>0</td>\n    </tr>\n    <tr>\n      <th>1961-04-04</th>\n      <td>249.6</td>\n      <td>250.4</td>\n      <td>249.4</td>\n      <td>None</td>\n      <td>None</td>\n      <td>250.2</td>\n      <td>507</td>\n      <td>492</td>\n    </tr>\n    <tr>\n      <th>1961-04-05</th>\n      <td>250.6</td>\n      <td>251.4</td>\n      <td>250.3</td>\n      <td>None</td>\n      <td>None</td>\n      <td>251.4</td>\n      <td>802</td>\n      <td>1254</td>\n    </tr>\n    <tr>\n      <th>1961-04-06</th>\n      <td>252.2</td>\n      <td>252.2</td>\n      <td>250.4</td>\n      <td>None</td>\n      <td>None</td>\n      <td>250.6</td>\n      <td>1036</td>\n      <td>1742</td>\n    </tr>\n    <tr>\n      <th>1961-04-07</th>\n      <td>251.4</td>\n      <td>251.4</td>\n      <td>249.6</td>\n      <td>None</td>\n      <td>None</td>\n      <td>250.2</td>\n      <td>1075</td>\n      <td>2573</td>\n    </tr>\n  </tbody>\n</table>\n</div>"
                    }, 
                    "execution_count": 24, 
                    "output_type": "execute_result", 
                    "metadata": {}
                }
            ], 
            "cell_type": "code", 
            "source": "d = qd.get(\"CME/SH1962\")\nd.head()"
        }, 
        {
            "source": "---", 
            "cell_type": "markdown", 
            "metadata": {}
        }, 
        {
            "source": "## Wiki Commodities", 
            "cell_type": "markdown", 
            "metadata": {}
        }, 
        {
            "execution_count": 33, 
            "metadata": {}, 
            "outputs": [
                {
                    "data": {
                        "text/plain": "            Column 1\nDate                \n1960-01-31        94\n1960-02-29        91\n1960-03-31        92\n1960-04-30        93\n1960-05-31        93", 
                        "text/html": "<div>\n<table border=\"1\" class=\"dataframe\">\n  <thead>\n    <tr style=\"text-align: right;\">\n      <th></th>\n      <th>Column 1</th>\n    </tr>\n    <tr>\n      <th>Date</th>\n      <th></th>\n    </tr>\n  </thead>\n  <tbody>\n    <tr>\n      <th>1960-01-31</th>\n      <td>94</td>\n    </tr>\n    <tr>\n      <th>1960-02-29</th>\n      <td>91</td>\n    </tr>\n    <tr>\n      <th>1960-03-31</th>\n      <td>92</td>\n    </tr>\n    <tr>\n      <th>1960-04-30</th>\n      <td>93</td>\n    </tr>\n    <tr>\n      <th>1960-05-31</th>\n      <td>93</td>\n    </tr>\n  </tbody>\n</table>\n</div>"
                    }, 
                    "execution_count": 33, 
                    "output_type": "execute_result", 
                    "metadata": {}
                }
            ], 
            "cell_type": "code", 
            "source": "d=qd.get(\"COM/WLD_SOYBEANS\")\nd.head()"
        }, 
        {
            "execution_count": null, 
            "metadata": {
                "collapsed": true
            }, 
            "outputs": [], 
            "cell_type": "code", 
            "source": ""
        }
    ], 
    "metadata": {
        "language_info": {
            "nbconvert_exporter": "python", 
            "file_extension": ".py", 
            "name": "python", 
            "pygments_lexer": "ipython2", 
            "codemirror_mode": {
                "name": "ipython", 
                "version": 2
            }, 
            "mimetype": "text/x-python", 
            "version": "2.7.11"
        }, 
        "kernelspec": {
            "language": "python", 
            "display_name": "Python 2 with Spark 2.1", 
            "name": "python2-spark21"
        }
    }
}